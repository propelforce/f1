{
 "cells": [
  {
   "cell_type": "code",
   "execution_count": 5,
   "metadata": {},
   "outputs": [
    {
     "name": "stdout",
     "output_type": "stream",
     "text": [
      "Executing Data-pre-processing-checkpoint.ipynb...\n",
      "\n",
      "Executing Model-Training-checkpoint.ipynb.ipynb...\n",
      "\n"
     ]
    }
   ],
   "source": [
    "# Master Notebook\n",
    "\n",
    "import subprocess\n",
    "\n",
    "def execute_notebook(notebook_path):\n",
    "    result = subprocess.run(['jupyter', 'nbconvert', '--to', 'notebook', '--execute', r'C:\\Users\\eswar\\f1\\notebooks'],capture_output=True)\n",
    "    print(result.stdout.decode('utf-8'))\n",
    "\n",
    "def main():\n",
    "    notebooks_to_execute = ['Data-pre-processing-checkpoint.ipynb', 'Model-Training-checkpoint.ipynb.ipynb']\n",
    "\n",
    "    for notebook in notebooks_to_execute:\n",
    "        print(f\"Executing {notebook}...\")\n",
    "        execute_notebook(notebook)\n",
    "\n",
    "if __name__ == \"__main__\":\n",
    "    main()\n",
    "\n"
   ]
  },
  {
   "cell_type": "code",
   "execution_count": null,
   "metadata": {},
   "outputs": [],
   "source": []
  }
 ],
 "metadata": {
  "kernelspec": {
   "display_name": "base",
   "language": "python",
   "name": "python3"
  },
  "language_info": {
   "codemirror_mode": {
    "name": "ipython",
    "version": 3
   },
   "file_extension": ".py",
   "mimetype": "text/x-python",
   "name": "python",
   "nbconvert_exporter": "python",
   "pygments_lexer": "ipython3",
   "version": "3.11.5"
  }
 },
 "nbformat": 4,
 "nbformat_minor": 2
}
